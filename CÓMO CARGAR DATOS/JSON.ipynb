{
 "cells": [
  {
   "cell_type": "code",
   "execution_count": 19,
   "metadata": {},
   "outputs": [],
   "source": [
    "import os\n",
    "import zipfile\n",
    "import json\n",
    "import requests\n",
    "import codecs\n",
    "import json\n",
    "import numpy as np\n",
    "from PIL import Image\n",
    "from io import BytesIO\n",
    "import matplotlib.pyplot as plt\n",
    "%matplotlib inline"
   ]
  },
  {
   "cell_type": "markdown",
   "metadata": {},
   "source": [
    "## Extraemos los datos"
   ]
  },
  {
   "cell_type": "code",
   "execution_count": 17,
   "metadata": {},
   "outputs": [],
   "source": [
    "url = \"https://storage.googleapis.com/platzi-tf2/databasesLoadData.zip\"\n",
    "response = requests.get(url)\n",
    "\n",
    "# Acá podemos escoger la ruta, por ejemplo 'data/databasesLoadData.zip' o dejarlo así\n",
    "with open(\"databasesLoadData.zip\", \"wb\") as file:\n",
    "    file.write(response.content)"
   ]
  },
  {
   "cell_type": "markdown",
   "metadata": {},
   "source": [
    "## Descomprimimos el archivo"
   ]
  },
  {
   "cell_type": "code",
   "execution_count": 18,
   "metadata": {},
   "outputs": [],
   "source": [
    "import zipfile\n",
    "# En donde tenemos el archivo local?\n",
    "local_zip = 'databasesLoadData.zip'\n",
    "zip_ref = zipfile.ZipFile(local_zip, 'r')\n",
    "# En donde lo vamos a extraer? como se llamará la carpeta?\n",
    "zip_ref.extractall('data')\n",
    "zip_ref.close()\n",
    "\n",
    "# Esto es opcional, pero yo prefiero eliminar el archivo zip\n",
    "os.remove(local_zip)"
   ]
  },
  {
   "cell_type": "markdown",
   "metadata": {},
   "source": [
    "## Cargamos los datos"
   ]
  },
  {
   "cell_type": "code",
   "execution_count": 21,
   "metadata": {},
   "outputs": [
    {
     "name": "stdout",
     "output_type": "stream",
     "text": [
      "9\n"
     ]
    }
   ],
   "source": [
    "json_file = 'data/sign_mnist_json/data.json'\n",
    "data_json = []\n",
    "\n",
    "with codecs.open(json_file, 'r', 'utf-8') as js:\n",
    "    for line in js:\n",
    "        data_json.append(json.loads(line))\n",
    "        \n",
    "print(len(data_json))"
   ]
  },
  {
   "cell_type": "code",
   "execution_count": null,
   "metadata": {},
   "outputs": [
    {
     "data": {
      "text/plain": [
       "{'content': 'https://storage.googleapis.com/platzi-tf2/img_mnist/29_B.jpg',\n",
       " 'label': 'b'}"
      ]
     },
     "execution_count": 12,
     "metadata": {},
     "output_type": "execute_result"
    }
   ],
   "source": [
    "data_json[0]"
   ]
  },
  {
   "cell_type": "markdown",
   "metadata": {},
   "source": [
    "## \"Creamos las imagenes\" y las mostramos"
   ]
  },
  {
   "cell_type": "code",
   "execution_count": 25,
   "metadata": {},
   "outputs": [],
   "source": [
    "images = []\n",
    "\n",
    "for data in data_json:\n",
    "    response = requests.get(data['content'])\n",
    "    img = np.asarray(Image.open(BytesIO(response.content)))\n",
    "    images.append([img, data['label']])"
   ]
  },
  {
   "cell_type": "code",
   "execution_count": 35,
   "metadata": {},
   "outputs": [
    {
     "name": "stdout",
     "output_type": "stream",
     "text": [
      "a\n"
     ]
    },
    {
     "data": {
      "image/png": "[encoded data removed]",
      "text/plain": [
       "<Figure size 640x480 with 1 Axes>"
      ]
     },
     "metadata": {},
     "output_type": "display_data"
    }
   ],
   "source": [
    "plt.imshow(images[3][0].reshape(28,28))\n",
    "print(images[3][1])"
   ]
  }
 ],
 "metadata": {
  "kernelspec": {
   "display_name": "env",
   "language": "python",
   "name": "python3"
  },
  "language_info": {
   "codemirror_mode": {
    "name": "ipython",
    "version": 3
   },
   "file_extension": ".py",
   "mimetype": "text/x-python",
   "name": "python",
   "nbconvert_exporter": "python",
   "pygments_lexer": "ipython3",
   "version": "3.10.11"
  }
 },
 "nbformat": 4,
 "nbformat_minor": 2
}
